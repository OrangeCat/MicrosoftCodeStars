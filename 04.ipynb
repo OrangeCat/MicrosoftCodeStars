{
 "worksheets": [
  {
   "cells": [
    {
     "cell_type": "code",
     "metadata": {},
     "outputs": [
      {
       "output_type": "stream",
       "stream": "stdout",
       "text": [
        "20\n"
       ]
      }
     ],
     "input": [
      "l = list() #??????, ?????????? ???? ??????.\n",
      "d = set()\n",
      "d2 = set()\n",
      "n = 0 #???????.\n",
      "\n",
      "with open('25.txt', 'r', encoding=\"utf-8\") as inf:\n",
      "    for s in inf:        \n",
      "        l.append([s.split()[1], s.split()[2]])\n",
      "\n",
      "f = '??????????'\n",
      "t = '?????????'\n",
      "\n",
      "d.add(f)                \n",
      "\n",
      "while 1==1:\n",
      "    oyes = False\n",
      "    d2.clear()\n",
      "    for z in l:\n",
      "        if z[0] in d:\n",
      "            d2.add(z[1])\n",
      "            oyes = True\n",
      "        if z[1] in d:\n",
      "            d2.add(z[0])            \n",
      "            oyes = True\n",
      "    if oyes == True:\n",
      "        d.update(d2)        \n",
      "        n += 1\n",
      "    if t in d:\n",
      "        break    \n",
      "    \n",
      "print (n)\n",
      "#print(d)"
     ],
     "language": "python",
     "prompt_number": 27
    },
    {
     "cell_type": "code",
     "metadata": {},
     "outputs": [
      {
       "output_type": "stream",
       "stream": "stdout",
       "text": [
        "20\n"
       ]
      }
     ],
     "input": [
      "l = list() #??????, ?????????? ???? ??????.\n",
      "d = set()\n",
      "d2 = set()\n",
      "n = 0 #???????.\n",
      "\n",
      "with open('25.txt', 'r', encoding=\"utf-8\") as inf:\n",
      "    for s in inf:        \n",
      "        l.append([s.split()[1], s.split()[2]])\n",
      "\n",
      "f = '??????????'\n",
      "t = '?????????'\n",
      "\n",
      "d.add(f)                \n",
      "\n",
      "while 1==1:\n",
      "    d2.clear()\n",
      "    for z in l:\n",
      "        #if z[0] in d or z[1] in d:\n",
      "        if z[0] in d:\n",
      "            d2.add(z[1])           \n",
      "            #d2.add(z[0])                                        \n",
      "    d.update(d2)  \n",
      "    #print(d)\n",
      "    #print()\n",
      "    n += 1\n",
      "    if t in d:\n",
      "        break    \n",
      "    \n",
      "print (n)"
     ],
     "language": "python",
     "prompt_number": 2
    },
    {
     "cell_type": "code",
     "metadata": {},
     "outputs": [],
     "input": [
      ""
     ],
     "language": "python"
    }
   ]
  }
 ],
 "cells": [],
 "metadata": {
  "name": "",
  "signature": "sha256:fb9deeb6b614c7ada80bfc9098073c31c000ef4a1c23ae1a3a3822b1c7cf8228"
 },
 "nbformat": 3,
 "nbformat_minor": 0
}